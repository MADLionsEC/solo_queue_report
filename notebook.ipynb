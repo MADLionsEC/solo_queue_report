{
 "cells": [
  {
   "cell_type": "code",
   "execution_count": 1,
   "metadata": {},
   "outputs": [],
   "source": [
    "import pandas as pd\n",
    "from config.constants import EXCEL_EXPORT_PATH, LEAGUES_DATA_DICT, SOLOQ"
   ]
  },
  {
   "cell_type": "code",
   "execution_count": 2,
   "metadata": {},
   "outputs": [],
   "source": [
    "df = pd.read_excel(LEAGUES_DATA_DICT[SOLOQ][EXCEL_EXPORT_PATH])"
   ]
  },
  {
   "cell_type": "code",
   "execution_count": 4,
   "metadata": {},
   "outputs": [],
   "source": [
    "mad_df = df.loc[df.team_abbv == 'MAD']"
   ]
  },
  {
   "cell_type": "markdown",
   "metadata": {},
   "source": [
    "## How many times they played a champion"
   ]
  },
  {
   "cell_type": "code",
   "execution_count": 6,
   "metadata": {},
   "outputs": [],
   "source": [
    "champs_practiced = mad_df.groupby(['player_name', 'champ_name']).count()['currentAccountId'].to_frame().reset_index()"
   ]
  },
  {
   "cell_type": "code",
   "execution_count": 7,
   "metadata": {},
   "outputs": [],
   "source": [
    "champs_practiced.rename(columns={'currentAccountId': 'times_played'}, inplace=True)"
   ]
  },
  {
   "cell_type": "code",
   "execution_count": 8,
   "metadata": {},
   "outputs": [],
   "source": [
    "df2 = champs_practiced"
   ]
  },
  {
   "cell_type": "markdown",
   "metadata": {},
   "source": [
    "### What champions they did have to practice"
   ]
  },
  {
   "cell_type": "code",
   "execution_count": 10,
   "metadata": {},
   "outputs": [],
   "source": [
    "dict0 = {'Werlyb': ['Garen', 'Tryndamere', 'Kalista', 'Jax'], \n",
    "         'Selfmade': ['Fiddle', 'Hecarim', 'Lee Sin'], \n",
    "         'Nemesis': ['Sejuani', 'Caitlyn', 'Soraka', 'Rakan'],\n",
    "         'Crownshot': ['Ornn', 'Yasuo', 'Alistar'],\n",
    "         'Falco': ['Fiora', 'Malzahar', 'Nautilus']}"
   ]
  },
  {
   "cell_type": "code",
   "execution_count": 11,
   "metadata": {},
   "outputs": [],
   "source": [
    "practice_champs = pd.DataFrame([(key, v, 1) for key, values in dict0.items() for v in values]).rename(columns={0: 'player_name', 1: 'champ_name', 2: 'should_train'})"
   ]
  },
  {
   "cell_type": "code",
   "execution_count": 12,
   "metadata": {},
   "outputs": [],
   "source": [
    "practiced_champs = df2.merge(practice_champs, on=['player_name', 'champ_name'], how='outer').sort_values(['player_name', 'champ_name']).fillna(0)"
   ]
  },
  {
   "cell_type": "code",
   "execution_count": 13,
   "metadata": {},
   "outputs": [],
   "source": [
    "practiced_champs[['times_played', 'should_train']] = practiced_champs[['times_played', 'should_train']].astype(int)"
   ]
  },
  {
   "cell_type": "markdown",
   "metadata": {},
   "source": [
    "## How many times they played together"
   ]
  },
  {
   "cell_type": "code",
   "execution_count": 14,
   "metadata": {},
   "outputs": [],
   "source": [
    "dict1 = {}\n",
    "for name in champs_practiced.player_name.unique():\n",
    "    df = champs_practiced.loc[(champs_practiced.player_name == name)]\n",
    "    dict1[name] = {row[1][1]: row[1][2] for row in df.iterrows()}"
   ]
  },
  {
   "cell_type": "code",
   "execution_count": 15,
   "metadata": {},
   "outputs": [],
   "source": [
    "together = mad_df.groupby(['gameId', 'queueId', 'player_name'], as_index=False).count()"
   ]
  },
  {
   "cell_type": "code",
   "execution_count": 16,
   "metadata": {
    "scrolled": true
   },
   "outputs": [],
   "source": [
    "duplicated_ids = together.duplicated('gameId', keep=False)"
   ]
  },
  {
   "cell_type": "code",
   "execution_count": 17,
   "metadata": {},
   "outputs": [
    {
     "name": "stderr",
     "output_type": "stream",
     "text": [
      "C:\\Users\\david\\Anaconda3\\lib\\site-packages\\ipykernel_launcher.py:1: DeprecationWarning: \n",
      ".ix is deprecated. Please use\n",
      ".loc for label based indexing or\n",
      ".iloc for positional indexing\n",
      "\n",
      "See the documentation here:\n",
      "http://pandas.pydata.org/pandas-docs/stable/indexing.html#ix-indexer-is-deprecated\n",
      "  \"\"\"Entry point for launching an IPython kernel.\n"
     ]
    }
   ],
   "source": [
    "played_together = together.ix[duplicated_ids]"
   ]
  },
  {
   "cell_type": "code",
   "execution_count": 18,
   "metadata": {},
   "outputs": [],
   "source": [
    "from collections import defaultdict"
   ]
  },
  {
   "cell_type": "code",
   "execution_count": 19,
   "metadata": {},
   "outputs": [],
   "source": [
    "dict2 = defaultdict(int)"
   ]
  },
  {
   "cell_type": "code",
   "execution_count": 20,
   "metadata": {},
   "outputs": [],
   "source": [
    "for gameid in played_together.gameId.unique():\n",
    "    df = played_together.loc[played_together.gameId == gameid]\n",
    "    names = list(df.sort_values('player_name').player_name)\n",
    "    if len(names) == 2:\n",
    "        team_name = names[0] + '_' + names[1]\n",
    "    elif len(names) == 3:\n",
    "        team_name = names[0] + '_' + names[1] + '_' + names[2]\n",
    "    elif len(names) == 5:\n",
    "        team_name = names[0] + '_' + names[1] + '_' + names[2] + '_' + names[3] + '_' + names[4]\n",
    "    dict2[team_name] += 1"
   ]
  },
  {
   "cell_type": "code",
   "execution_count": 21,
   "metadata": {},
   "outputs": [],
   "source": [
    "df3 = pd.DataFrame(dict(dict2), index=(0,)).T.rename(columns={0: 'times_played_together'})"
   ]
  },
  {
   "cell_type": "markdown",
   "metadata": {},
   "source": [
    "## To excel"
   ]
  },
  {
   "cell_type": "code",
   "execution_count": 23,
   "metadata": {},
   "outputs": [],
   "source": [
    "writer = pd.ExcelWriter('../exports/solo_queue_report.xlsx')\n",
    "practiced_champs.to_excel(writer,'Champions practiced')\n",
    "df3.to_excel(writer, 'Times played together')\n",
    "writer.save()"
   ]
  },
  {
   "cell_type": "code",
   "execution_count": null,
   "metadata": {},
   "outputs": [],
   "source": []
  }
 ],
 "metadata": {
  "kernelspec": {
   "display_name": "Python 3",
   "language": "python",
   "name": "python3"
  },
  "language_info": {
   "codemirror_mode": {
    "name": "ipython",
    "version": 3
   },
   "file_extension": ".py",
   "mimetype": "text/x-python",
   "name": "python",
   "nbconvert_exporter": "python",
   "pygments_lexer": "ipython3",
   "version": "3.6.4"
  }
 },
 "nbformat": 4,
 "nbformat_minor": 2
}
